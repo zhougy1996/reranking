{
 "cells": [
  {
   "cell_type": "code",
   "execution_count": 1,
   "id": "4220abae",
   "metadata": {},
   "outputs": [],
   "source": [
    "import pandas as pd"
   ]
  },
  {
   "cell_type": "code",
   "execution_count": 12,
   "id": "52c1f4ea",
   "metadata": {},
   "outputs": [],
   "source": [
    "# 读取训练集\n",
    "\n",
    "# passages\n",
    "passages = pd.read_csv(\"data/collection.train.sampled.tsv\", sep=\"\\t\", header=None)\n",
    "passages.columns = ['pid', 'passage']\n",
    "\n",
    "# queries\n",
    "queries = pd.read_csv(\"data/queries.train.sampled.tsv\", sep=\"\\t\", header=None)\n",
    "queries.columns = ['qid', 'query']\n",
    "\n",
    "# triples （查询与正负样本）\n",
    "triples = pd.read_csv(\"data/qidpidtriples.train.sampled.tsv\", sep=\"\\t\", header=None)\n",
    "triples.columns = ['qid', 'pos_pid', 'neg_pid']"
   ]
  },
  {
   "cell_type": "code",
   "execution_count": 40,
   "id": "ad04bdf6",
   "metadata": {},
   "outputs": [
    {
     "name": "stdout",
     "output_type": "stream",
     "text": [
      "43\n",
      "54\n"
     ]
    }
   ],
   "source": [
    "# 读取验证集（使用2019年的测试集作为验证集，43个验证查询）\n",
    "\n",
    "# val_set\n",
    "val_set = pd.read_csv(\"data/msmarco-passagetest2019-43-top1000.tsv\", sep=\"\\t\", header=None)\n",
    "val_set.columns = ['qid', 'pid', 'query', 'passage']\n",
    "# print(val_set['qid'].value_counts().count())\n",
    "\n",
    "# 读取测试集（2020年的测试集，54个测试查询）\n",
    "\n",
    "# test_set\n",
    "test_set = pd.read_csv(\"data/msmarco-passagetest2020-54-top1000.tsv\", sep=\"\\t\", header=None)\n",
    "test_set.columns = ['qid', 'pid', 'query', 'passage']\n",
    "# print(test_set['qid'].value_counts().count())"
   ]
  },
  {
   "cell_type": "code",
   "execution_count": null,
   "id": "65606144",
   "metadata": {},
   "outputs": [],
   "source": []
  },
  {
   "cell_type": "code",
   "execution_count": null,
   "id": "f1aa0241",
   "metadata": {},
   "outputs": [],
   "source": []
  }
 ],
 "metadata": {
  "kernelspec": {
   "display_name": "Python 3 (ipykernel)",
   "language": "python",
   "name": "python3"
  },
  "language_info": {
   "codemirror_mode": {
    "name": "ipython",
    "version": 3
   },
   "file_extension": ".py",
   "mimetype": "text/x-python",
   "name": "python",
   "nbconvert_exporter": "python",
   "pygments_lexer": "ipython3",
   "version": "3.9.7"
  }
 },
 "nbformat": 4,
 "nbformat_minor": 5
}
