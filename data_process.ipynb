{
 "cells": [
  {
   "cell_type": "code",
   "execution_count": 1,
   "id": "4220abae",
   "metadata": {},
   "outputs": [],
   "source": [
    "import pandas as pd"
   ]
  },
  {
   "cell_type": "code",
   "execution_count": 2,
   "id": "52c1f4ea",
   "metadata": {},
   "outputs": [],
   "source": [
    "# 读取训练集\n",
    "\n",
    "# passages\n",
    "passages = pd.read_csv(\"data/collection.train.sampled.tsv\", sep=\"\\t\", header=None)\n",
    "passages.columns = ['pid', 'passage']\n",
    "passages.set_index('pid', inplace=True)\n",
    "\n",
    "# queries\n",
    "queries = pd.read_csv(\"data/queries.train.sampled.tsv\", sep=\"\\t\", header=None)\n",
    "queries.columns = ['qid', 'query']\n",
    "queries.set_index('qid', inplace=True)\n",
    "\n",
    "# triples （查询与正负样本）\n",
    "triples = pd.read_csv(\"data/qidpidtriples.train.sampled.tsv\", sep=\"\\t\", header=None)\n",
    "triples.columns = ['qid', 'pos_pid', 'neg_pid']"
   ]
  },
  {
   "cell_type": "code",
   "execution_count": 3,
   "id": "ad04bdf6",
   "metadata": {},
   "outputs": [],
   "source": [
    "# 读取验证集（使用2019年的测试集作为验证集，43个验证查询）\n",
    "\n",
    "# val_set\n",
    "val_set = pd.read_csv(\"data/msmarco-passagetest2019-43-top1000.tsv\", sep=\"\\t\", header=None)\n",
    "val_set.columns = ['qid', 'pid', 'query', 'passage']\n",
    "# print(val_set['qid'].value_counts().count())\n",
    "\n",
    "# 读取测试集（2020年的测试集，54个测试查询）\n",
    "\n",
    "# test_set\n",
    "test_set = pd.read_csv(\"data/msmarco-passagetest2020-54-top1000.tsv\", sep=\"\\t\", header=None)\n",
    "test_set.columns = ['qid', 'pid', 'query', 'passage']\n",
    "# print(test_set['qid'].value_counts().count())"
   ]
  },
  {
   "cell_type": "code",
   "execution_count": 4,
   "id": "65606144",
   "metadata": {},
   "outputs": [],
   "source": [
    "# 生成训练集\n",
    "# 将原始数据合并，使其成为模型的输入\n",
    "\n",
    "# 正负样本\n",
    "train_set_pos = pd.DataFrame(data=None, columns=['query','passage','is_relevant'])\n",
    "train_set_pos['query'] = triples['qid']\n",
    "train_set_pos['passage'] = triples['pos_pid']\n",
    "train_set_pos['is_relevant'] = 1\n",
    "\n",
    "train_set_neg = pd.DataFrame(data=None, columns=['query','passage','is_relevant'])\n",
    "train_set_neg['query'] = triples['qid']\n",
    "train_set_neg['passage'] = triples['neg_pid']\n",
    "train_set_neg['is_relevant'] = 0\n",
    "\n",
    "# 合并正负样本\n",
    "train_set = pd.concat([train_set_pos, train_set_neg], axis=0, ignore_index=True) \n",
    "train_set = train_set.sample(frac=1).reset_index(drop=True) # 打乱顺序\n",
    "\n",
    "# 将id替换为具体文本\n",
    "train_set['query'] = train_set['query'].apply(lambda x: queries.loc[x, 'query'])\n",
    "train_set['passage'] = train_set['passage'].apply(lambda x: passages.loc[x, 'passage'])\n",
    "\n",
    "# 保存训练集\n",
    "train_set.to_csv(\"data/train_set.tsv\", sep=\"\\t\", index= False)"
   ]
  },
  {
   "cell_type": "code",
   "execution_count": null,
   "id": "1d35ddee",
   "metadata": {},
   "outputs": [],
   "source": []
  }
 ],
 "metadata": {
  "kernelspec": {
   "display_name": "Python 3 (ipykernel)",
   "language": "python",
   "name": "python3"
  },
  "language_info": {
   "codemirror_mode": {
    "name": "ipython",
    "version": 3
   },
   "file_extension": ".py",
   "mimetype": "text/x-python",
   "name": "python",
   "nbconvert_exporter": "python",
   "pygments_lexer": "ipython3",
   "version": "3.9.7"
  }
 },
 "nbformat": 4,
 "nbformat_minor": 5
}